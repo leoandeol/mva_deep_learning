{
 "cells": [
  {
   "cell_type": "markdown",
   "metadata": {
    "colab_type": "text",
    "id": "oBE0KDbeq7V2"
   },
   "source": [
    "# Deep Learning for NLP - Project"
   ]
  },
  {
   "cell_type": "markdown",
   "metadata": {
    "colab_type": "text",
    "id": "y8Ag8mU0q7V6"
   },
   "source": [
    "RULES:\n",
    "\n",
    "* Do not create any additional cell\n",
    "\n",
    "* Fill in the blanks\n",
    "\n",
    "* All cells should be runnable (modulo trivial compatibility bugs that we'd fix)\n",
    "\n",
    "* 4 / 20 points will be allocated to the clarity of your code\n",
    "\n",
    "* Efficient code will have a bonus\n",
    "\n",
    "DELIVERABLE:\n",
    "\n",
    "* the pdf with your answers\n",
    "* this notebook\n",
    "* the predictions of the SST test set\n",
    "\n",
    "DO NOT INCLUDE THE DATASETS IN THE DELIVERABLE.."
   ]
  },
  {
   "cell_type": "code",
   "execution_count": 1,
   "metadata": {
    "colab": {},
    "colab_type": "code",
    "id": "CHSpY0n6q7V8",
    "jupyter": {
     "outputs_hidden": false
    }
   },
   "outputs": [],
   "source": [
    "# Python 3.6 or above is required\n",
    "from collections import defaultdict\n",
    "import gzip\n",
    "import numpy as np\n",
    "from pathlib import Path\n",
    "from urllib.request import urlretrieve\n",
    "import matplotlib.pyplot as plt"
   ]
  },
  {
   "cell_type": "code",
   "execution_count": 2,
   "metadata": {
    "colab": {},
    "colab_type": "code",
    "id": "X4S-c_5Aq7WE"
   },
   "outputs": [],
   "source": [
    "PATH_TO_DATA = Path('data/')\n",
    "# Download word vectors, might take a few minutes and about ~3GB of storage space\n",
    "en_embeddings_path = PATH_TO_DATA / 'cc.en.300.vec.gz'\n",
    "if not en_embeddings_path.exists():\n",
    "    urlretrieve('https://dl.fbaipublicfiles.com/fasttext/vectors-crawl/cc.en.300.vec.gz', en_embeddings_path)\n",
    "fr_embeddings_path = PATH_TO_DATA / 'cc.fr.300.vec.gz'\n",
    "if not fr_embeddings_path.exists():\n",
    "    urlretrieve('https://dl.fbaipublicfiles.com/fasttext/vectors-crawl/cc.fr.300.vec.gz', fr_embeddings_path)"
   ]
  },
  {
   "cell_type": "markdown",
   "metadata": {
    "colab_type": "text",
    "id": "1TqOoAaRq7WK"
   },
   "source": [
    "# 1) Monolingual (English) word embeddings "
   ]
  },
  {
   "cell_type": "code",
   "execution_count": 3,
   "metadata": {
    "colab": {},
    "colab_type": "code",
    "id": "V00Np-KXq7WL"
   },
   "outputs": [],
   "source": [
    "class Word2Vec():\n",
    "\n",
    "    def __init__(self, filepath, vocab_size=50000):\n",
    "        self.words, self.embeddings = self.load_wordvec(filepath, vocab_size)\n",
    "        # Mappings for O(1) retrieval:\n",
    "        self.word2id = {word: idx for idx, word in enumerate(self.words)}\n",
    "        self.id2word = {idx: word for idx, word in enumerate(self.words)}\n",
    "    \n",
    "    def load_wordvec(self, filepath, vocab_size):\n",
    "        assert str(filepath).endswith('.gz')\n",
    "        words = []\n",
    "        embeddings = []\n",
    "        with gzip.open(filepath, 'rt') as f:  # Read compressed file directly\n",
    "            next(f)  # Skip header\n",
    "            for i, line in enumerate(f):\n",
    "                word, vec = line.split(' ', 1)\n",
    "                words.append(word)\n",
    "                embeddings.append(np.fromstring(vec, sep=' '))\n",
    "                if i == (vocab_size - 1):\n",
    "                    break\n",
    "        print('Loaded %s pretrained word vectors' % (len(words)))\n",
    "        return words, np.vstack(embeddings)\n",
    "    \n",
    "    def encode(self, word):\n",
    "        # Returns the 1D embedding of a given word\n",
    "        idx = self.word2id.get(word,\"xxxxdefaultxxxx\")\n",
    "        if idx == \"xxxxdefaultxxxx\":\n",
    "            return np.zeros(self.embeddings[0].shape)\n",
    "        return self.embeddings[idx]\n",
    "    \n",
    "    def score(self, word1, word2):\n",
    "        # Return the cosine similarity: use np.dot & np.linalg.norm\n",
    "        e1, e2 = self.encode(word1), self.encode(word2)\n",
    "        return np.dot(e1,e2)/(np.linalg.norm(e1)*np.linalg.norm(e2))\n",
    "    \n",
    "    def most_similar(self, word, k=5):\n",
    "        # Returns the k most similar words: self.score & np.argsort \n",
    "        scores = np.zeros(len(self.words))\n",
    "        for id,word2 in enumerate(self.words):\n",
    "            if word2 != word:\n",
    "                scores[id] = self.score(word,word2)\n",
    "        return list(reversed([self.words[x] for x in scores.argsort()[-k:]]))"
   ]
  },
  {
   "cell_type": "code",
   "execution_count": 4,
   "metadata": {
    "colab": {
     "base_uri": "https://localhost:8080/",
     "height": 238
    },
    "colab_type": "code",
    "id": "s7zKfdH3q7WO",
    "jupyter": {
     "outputs_hidden": false
    },
    "outputId": "e15b3d45-863f-4feb-9eea-36fd8bdff188"
   },
   "outputs": [
    {
     "name": "stdout",
     "output_type": "stream",
     "text": [
      "Loaded 50000 pretrained word vectors\n",
      "cat tree 0.26449754661654756\n",
      "cat dog 0.7078641298542564\n",
      "cat pet 0.6753313359976381\n",
      "Paris France 0.689295892580654\n",
      "Paris Germany 0.4051242286737548\n",
      "Paris baguette 0.29399958277802224\n",
      "Paris donut -0.006588507552348002\n",
      "['cats', 'kitty', 'kitten', 'feline', 'dog']\n",
      "['dogs', 'puppy', 'pup', 'canine', 'pet']\n",
      "['dog', 'cats', 'puppies', 'Dogs', 'pets']\n",
      "['France', 'Parisian', 'Marseille', 'Brussels', 'Strasbourg']\n",
      "['Austria', 'Europe', 'Berlin', 'Hamburg', 'Bavaria']\n"
     ]
    }
   ],
   "source": [
    "word2vec = Word2Vec(en_embeddings_path, vocab_size=50000)\n",
    "\n",
    "# You will be evaluated on the output of the following:\n",
    "for word1, word2 in zip(('cat', 'cat', 'cat', 'Paris', 'Paris', 'Paris', 'Paris'), ('tree', 'dog', 'pet', 'France', 'Germany', 'baguette', 'donut')):\n",
    "    print(word1, word2, word2vec.score(word1, word2))\n",
    "for word in ['cat', 'dog', 'dogs', 'Paris', 'Germany']:\n",
    "    print(word2vec.most_similar(word))"
   ]
  },
  {
   "cell_type": "code",
   "execution_count": 5,
   "metadata": {
    "colab": {},
    "colab_type": "code",
    "id": "wiOt_VQ2q7WQ",
    "jupyter": {
     "outputs_hidden": false
    }
   },
   "outputs": [],
   "source": [
    "class BagOfWords():\n",
    "    \n",
    "    def __init__(self, word2vec):\n",
    "        self.word2vec = word2vec\n",
    "    \n",
    "    def build_idf(self, sentences):\n",
    "        # build the idf dictionary: associate each word to its idf value\n",
    "        # -> idf = {word: idf_value, ...}\n",
    "        self.idf = {}\n",
    "        N = len(sentences)\n",
    "        \n",
    "        # first pass to count unique occurences of words in each sentence\n",
    "        for sent in sentences:\n",
    "            words = sent.replace(\".\",\"\").lower().strip().split(\" \")\n",
    "            words = np.unique(words)\n",
    "            for word in words:\n",
    "                self.idf[word] = self.idf.get(word,0) + 1\n",
    "        # second pass to compute the inverse frequencies\n",
    "        for idx in self.idf.keys():\n",
    "            self.idf[idx] = np.log(N / self.idf.get(idx,1)) \n",
    "            \n",
    "        return self.idf\n",
    "    \n",
    "    def encode(self, sentence, idf=None):\n",
    "        # Takes a sentence as input, returns the sentence embedding\n",
    "        words = sentence.replace(\".\",\"\").lower().strip().split(\" \")\n",
    "        if idf is None:\n",
    "            # mean of word vectors\n",
    "            return np.mean(np.vstack([self.word2vec.encode(word) for word in words]),axis=0)\n",
    "        else:\n",
    "            # idf-weighted mean of word vectors\n",
    "            return np.mean(np.vstack([self.word2vec.encode(word)*idf.get(word,0) for word in words]),axis=0)\n",
    "\n",
    "    def score(self, sentence1, sentence2, idf=None):\n",
    "        # cosine similarity: use np.dot & np.linalg.norm \n",
    "        e1, e2 = self.encode(sentence1, idf), self.encode(sentence2, idf)\n",
    "        return np.dot(e1,e2)/(np.linalg.norm(e1)*np.linalg.norm(e2))\n",
    "    \n",
    "    def most_similar(self, sentence, sentences, idf=None, k=5):\n",
    "        # Return most similar sentences\n",
    "        scores = list([self.score(sentence, sentence2, idf) for sentence2 in sentences])\n",
    "        idxs = np.argsort(scores)[-k:]\n",
    "        return list(reversed([sentences[i] for i in idxs]))"
   ]
  },
  {
   "cell_type": "code",
   "execution_count": 6,
   "metadata": {
    "colab": {
     "base_uri": "https://localhost:8080/",
     "height": 249
    },
    "colab_type": "code",
    "id": "pi-TGBKuq7WU",
    "jupyter": {
     "outputs_hidden": false
    },
    "outputId": "366dc485-5c59-49f7-ac41-abfa9542e667"
   },
   "outputs": [
    {
     "name": "stdout",
     "output_type": "stream",
     "text": [
      "Loaded 100000 pretrained word vectors\n",
      "\n",
      "\tAverage of word embeddings\n",
      "1 man singing and 1 man playing a saxophone in a concert . \n",
      "10 people venture out to go crosscountry skiing . \n",
      "0.6412959133125588\n",
      "1 smiling african american boy . \n",
      "1) 1 smiling african american boy . \n",
      "2) 2 woman dancing while pointing . \n",
      "3) 5 women and 1 man are smiling for the camera . \n",
      "4) 3 males and 1 woman enjoying a sporting event \n",
      "5) 2 chinese people wearing traditional clothes \n",
      "\n",
      "\tidf weighted average of word embeddings\n",
      "1 man singing and 1 man playing a saxophone in a concert . \n",
      "10 people venture out to go crosscountry skiing . \n",
      "0.6394336233340874\n",
      "2 chinese people wearing traditional clothes \n",
      "1) 2 chinese people wearing traditional clothes \n",
      "2) 3 men in tuxedos and 2 women in dresses , sleeping on the grass . \n",
      "3) 2 women in red outfits and 3 other people are standing at a street corner . \n",
      "4) 2 white ladies in casual clothing . \n",
      "5) 2 woman dancing while pointing . \n"
     ]
    }
   ],
   "source": [
    "word2vec = Word2Vec(en_embeddings_path, vocab_size=100000)\n",
    "sentence2vec = BagOfWords(word2vec)\n",
    "\n",
    "# Load sentences in \"PATH_TO_DATA/sentences.txt\"\n",
    "filepath = PATH_TO_DATA / 'sentences.txt'\n",
    "with open(filepath, 'r') as f:\n",
    "    sentences = [line.strip('\\n') for line in f]\n",
    "\n",
    "\n",
    "# You will be evaluated on the output of the following:\n",
    "print('\\n\\tAverage of word embeddings')\n",
    "sentence1 = sentences[7]\n",
    "sentence2 = sentences[13]\n",
    "print(sentence1)\n",
    "print(sentence2)\n",
    "print(sentence2vec.score(sentence1, sentence2))\n",
    "sentence = sentences[10]\n",
    "similar_sentences = sentence2vec.most_similar(sentence, sentences)  # BagOfWords-mean\n",
    "print(sentence)\n",
    "for i, sentence in enumerate(similar_sentences):\n",
    "    print(str(i+1) + ')', sentence)\n",
    "\n",
    "# Build idf scores for each word\n",
    "idf = sentence2vec.build_idf(sentences)\n",
    "\n",
    "print('\\n\\tidf weighted average of word embeddings')\n",
    "print(sentence1)\n",
    "print(sentence2)\n",
    "print(sentence2vec.score(sentence1, sentence2, idf))\n",
    "similar_sentences = sentence2vec.most_similar(sentence, sentences, idf)  # BagOfWords-idf\n",
    "print(sentence)\n",
    "for i, sentence in enumerate(similar_sentences):\n",
    "    print(str(i+1) + ')', sentence)"
   ]
  },
  {
   "cell_type": "markdown",
   "metadata": {
    "colab_type": "text",
    "id": "smf-Dh5Vq7WV"
   },
   "source": [
    "# 2) Multilingual (English-French) word embeddings"
   ]
  },
  {
   "cell_type": "markdown",
   "metadata": {
    "colab_type": "text",
    "id": "vVDvwFFDq7WV"
   },
   "source": [
    "Let's consider a bilingual dictionary of size V_a (e.g French-English).\n",
    "\n",
    "Let's define **X** and **Y** the **French** and **English** matrices.\n",
    "\n",
    "They contain the embeddings associated to the words in the bilingual dictionary.\n",
    "\n",
    "We want to find a **mapping W** that will project the source word space (e.g French) to the target word space (e.g English).\n",
    "\n",
    "Procrustes : **W\\* = argmin || W.X - Y ||  s.t  W^T.W = Id**\n",
    "has a closed form solution:\n",
    "**W = U.V^T  where  U.Sig.V^T = SVD(Y.X^T)**\n",
    "\n",
    "In what follows, you are asked to: "
   ]
  },
  {
   "cell_type": "code",
   "execution_count": 7,
   "metadata": {
    "colab": {},
    "colab_type": "code",
    "id": "x3ny0Jvpq7WV"
   },
   "outputs": [],
   "source": [
    "class MultilingualWordAligner:\n",
    "    \n",
    "    def __init__(self, fr_word2vec, en_word2vec):\n",
    "        self.fr_word2vec = fr_word2vec\n",
    "        self.en_word2vec = en_word2vec\n",
    "        self.aligned_fr_embeddings = self.get_aligned_fr_embeddings()\n",
    "        \n",
    "    def get_aligned_fr_embeddings(self):\n",
    "        # 1 - Get words that appear in both vocabs (= identical character strings)\n",
    "        #     Use it to create the matrix X (emb_dim, vocab_size) and Y (emb_dim, vocab_size) (of embeddings for these words)\n",
    "        #intersection of dictionary keys\n",
    "        shared_keys = self.fr_word2vec.word2id.keys() & self.en_word2vec.word2id.keys()\n",
    "        #print(len(shared_keys))\n",
    "        X = np.vstack([self.fr_word2vec.encode(key) for key in shared_keys]).T\n",
    "        Y = np.vstack([self.en_word2vec.encode(key) for key in shared_keys]).T\n",
    "        #print(X.shape, Y.shape)\n",
    "        assert X.shape[0] == 300 and Y.shape[0] == 300\n",
    "        assert X.shape[1] == Y.shape[1]\n",
    "        \n",
    "        # 2 - Solve the Procrustes using the numpy package and: np.linalg.svd() and get the optimal W\n",
    "        #     Now self.fr_word2vec.embeddings * W.transpose() is in the same space as en_word2vec.embeddings\n",
    "        U,Sig,Vt = np.linalg.svd(Y@X.T)\n",
    "        W = U@Vt\n",
    "        assert W.shape == (300, 300)\n",
    "        return np.matmul(fr_word2vec.embeddings, W.transpose())\n",
    "        \n",
    "    def get_closest_english_words(self, fr_word, k=3):\n",
    "        # 3 - Return the top k English nearest neighbors to the input French word\n",
    "        idx = self.fr_word2vec.word2id[fr_word]\n",
    "        fr_emb = self.aligned_fr_embeddings[idx]\n",
    "        en_embs = self.en_word2vec.embeddings\n",
    "        scores = en_embs @ fr_emb.reshape((-1,1))\n",
    "        #print(en_embs.shape, fr_emb.shape, scores.shape,np.linalg.norm(en_embs,axis=1).shape)\n",
    "        scores /= np.linalg.norm(fr_emb)\n",
    "        scores /= np.linalg.norm(en_embs,axis=1)[:,None]\n",
    "        scores = scores.ravel()\n",
    "        #print(np.unique(scores, return_counts=True))\n",
    "        return list(reversed([self.en_word2vec.id2word[x] for x in scores.argsort()[-k:]]))"
   ]
  },
  {
   "cell_type": "code",
   "execution_count": 8,
   "metadata": {
    "colab": {},
    "colab_type": "code",
    "id": "ZyRn9HGmq7WW"
   },
   "outputs": [
    {
     "name": "stdout",
     "output_type": "stream",
     "text": [
      "Loaded 50000 pretrained word vectors\n",
      "Loaded 50000 pretrained word vectors\n",
      "----------\n",
      "fr: \"chat\"\n",
      "en: \"cat\"\n",
      "en: \"kitten\"\n",
      "en: \"kitty\"\n",
      "----------\n",
      "fr: \"chien\"\n",
      "en: \"dog\"\n",
      "en: \"cat\"\n",
      "en: \"pet\"\n",
      "----------\n",
      "fr: \"voiture\"\n",
      "en: \"car\"\n",
      "en: \"vehicle\"\n",
      "en: \"automobile\"\n",
      "----------\n",
      "fr: \"zut\"\n",
      "en: \"oops\"\n",
      "en: \"Ah\"\n",
      "en: \"ah\"\n"
     ]
    }
   ],
   "source": [
    "fr_word2vec = Word2Vec(fr_embeddings_path, vocab_size=50000)\n",
    "en_word2vec = Word2Vec(en_embeddings_path, vocab_size=50000)\n",
    "multilingual_word_aligner = MultilingualWordAligner(fr_word2vec, en_word2vec)\n",
    "\n",
    "# You will be evaluated on the output of the following:\n",
    "fr_words = ['chat', 'chien', 'voiture', 'zut']\n",
    "k = 3\n",
    "for fr_word in fr_words:\n",
    "    print('-' * 10)\n",
    "    print(f'fr: \"{fr_word}\"')\n",
    "    en_words = multilingual_word_aligner.get_closest_english_words(fr_word, k=3)\n",
    "    for en_word in en_words:\n",
    "        print(f'en: \"{en_word}\"')"
   ]
  },
  {
   "cell_type": "markdown",
   "metadata": {
    "colab_type": "text",
    "id": "0-fr1jUuq7WY"
   },
   "source": [
    "If you want to dive deeper on this subject: https://github.com/facebookresearch/MUSE"
   ]
  },
  {
   "cell_type": "markdown",
   "metadata": {
    "colab_type": "text",
    "id": "RZdPOvweq7WZ"
   },
   "source": [
    "# 3) Sentence classification with BoV and scikit-learn"
   ]
  },
  {
   "cell_type": "code",
   "execution_count": 9,
   "metadata": {
    "colab": {},
    "colab_type": "code",
    "id": "NfY3XO-Qq7Wa"
   },
   "outputs": [
    {
     "name": "stdout",
     "output_type": "stream",
     "text": [
      "(array([0, 1, 2, 3, 4]), array([1092, 2218, 1624, 2322, 1288]))\n"
     ]
    }
   ],
   "source": [
    "# 1 - Load train/dev/test of Stanford Sentiment TreeBank (SST)\n",
    "#     (https://nlp.stanford.edu/~socherr/EMNLP2013_RNTN.pdf)\n",
    "train_filepath = PATH_TO_DATA / 'SST/stsa.fine.train'\n",
    "dev_filepath = PATH_TO_DATA / 'SST/stsa.fine.dev'\n",
    "test_filepath = PATH_TO_DATA / 'SST/stsa.fine.test.X'\n",
    "\n",
    "def filtering(lines):\n",
    "    X = []\n",
    "    y = []\n",
    "    for line in lines:\n",
    "        y.append(int(line[0]))\n",
    "        X.append(line[2:])\n",
    "    return X,y\n",
    "\n",
    "with open(train_filepath,\"r\") as f:\n",
    "    train_lines = f.readlines()\n",
    "with open(dev_filepath,\"r\") as f:\n",
    "    dev_lines = f.readlines()\n",
    "with open(test_filepath,\"r\") as f:\n",
    "    test_lines = f.readlines()\n",
    "    \n",
    "train_lines, y_train = filtering(train_lines)\n",
    "dev_lines, y_dev = filtering(dev_lines)\n",
    "print(np.unique(y_train,return_counts=True))"
   ]
  },
  {
   "cell_type": "code",
   "execution_count": 10,
   "metadata": {
    "colab": {},
    "colab_type": "code",
    "id": "FKdAySu0q7Wd"
   },
   "outputs": [
    {
     "name": "stdout",
     "output_type": "stream",
     "text": [
      "Loaded 50000 pretrained word vectors\n",
      "(8544, 300)\n"
     ]
    }
   ],
   "source": [
    "# 2 - Encode sentences with the BoV model above\n",
    "\n",
    "word2vec = Word2Vec(en_embeddings_path, vocab_size=50000)\n",
    "bow = BagOfWords(word2vec)\n",
    "idf = bow.build_idf(train_lines)\n",
    "x_train = np.vstack([bow.encode(line,idf=None) for line in train_lines]) \n",
    "x_dev = np.vstack([bow.encode(line,idf=None) for line in dev_lines])  \n",
    "x_test = np.vstack([bow.encode(line,idf=None) for line in test_lines]) \n",
    "x_train_idf = np.vstack([bow.encode(line,idf=idf) for line in train_lines]) \n",
    "x_dev_idf = np.vstack([bow.encode(line,idf=idf) for line in dev_lines])  \n",
    "x_test_idf = np.vstack([bow.encode(line,idf=idf) for line in test_lines])   \n",
    "\n",
    "print(x_train.shape)"
   ]
  },
  {
   "cell_type": "code",
   "execution_count": 11,
   "metadata": {
    "colab": {},
    "colab_type": "code",
    "id": "zkAfWQ1Oq7Wg"
   },
   "outputs": [
    {
     "name": "stdout",
     "output_type": "stream",
     "text": [
      "C= 0.001 => 0.254314259763851\n",
      "C= 0.01 => 0.3097184377838329\n",
      "C= 0.1 => 0.35876475930971846\n",
      "C= 1.0 => 0.40236148955495005\n",
      "C= 10.0 => 0.4087193460490463\n"
     ]
    },
    {
     "name": "stderr",
     "output_type": "stream",
     "text": [
      "/home/leo/.local/lib/python3.7/site-packages/sklearn/linear_model/logistic.py:947: ConvergenceWarning: lbfgs failed to converge. Increase the number of iterations.\n",
      "  \"of iterations.\", ConvergenceWarning)\n"
     ]
    },
    {
     "name": "stdout",
     "output_type": "stream",
     "text": [
      "C= 100.0 => 0.4087193460490463\n",
      "C= 0.001 => 0.254314259763851\n",
      "C= 0.01 => 0.3097184377838329\n",
      "C= 0.1 => 0.35876475930971846\n",
      "C= 1.0 => 0.40236148955495005\n",
      "C= 10.0 => 0.4087193460490463\n",
      "C= 100.0 => 0.4087193460490463\n"
     ]
    },
    {
     "data": {
      "image/png": "[encoded data removed]",
      "text/plain": [
       "<Figure size 432x288 with 1 Axes>"
      ]
     },
     "metadata": {
      "needs_background": "light"
     },
     "output_type": "display_data"
    },
    {
     "data": {
      "image/png": "[encoded data removed]",
      "text/plain": [
       "<Figure size 432x288 with 1 Axes>"
      ]
     },
     "metadata": {
      "needs_background": "light"
     },
     "output_type": "display_data"
    }
   ],
   "source": [
    "# 3 - Learn Logistic Regression on top of sentence embeddings using scikit-learn\n",
    "#     (consider tuning the L2 regularization on the dev set)\n",
    "#     In the paper, the accuracy for average of word vectors is 32.7%\n",
    "#     (VecAvg, table 1, https://nlp.stanford.edu/~socherr/EMNLP2013_RNTN.pdf)\n",
    "\n",
    "from sklearn.linear_model import LogisticRegression\n",
    "\n",
    "regs = np.logspace(-3,2,6)\n",
    "scores = np.zeros((2,len(regs)))\n",
    "for i, reg in enumerate(regs):\n",
    "    lr = LogisticRegression(C=reg,solver=\"lbfgs\",multi_class=\"auto\",max_iter=1000)\n",
    "    lr.fit(x_train,y_train)\n",
    "    scores[0,i] = lr.score(x_train,y_train)\n",
    "    scores[1,i] = lr.score(x_dev,y_dev)\n",
    "    print(\"C=\",reg,\"=>\",scores[1,i])\n",
    "    \n",
    "scores_idf = np.zeros((2,len(regs)))\n",
    "for i, reg in enumerate(regs):\n",
    "    lr = LogisticRegression(C=reg,solver=\"lbfgs\",multi_class=\"auto\",max_iter=1000)\n",
    "    lr.fit(x_train_idf,y_train)\n",
    "    scores_idf[0,i] = lr.score(x_train_idf,y_train)\n",
    "    scores_idf[1,i] = lr.score(x_dev_idf,y_dev)\n",
    "    print(\"C=\",reg,\"=>\",scores[1,i])\n",
    "    \n",
    "plt.figure()\n",
    "plt.plot(scores[0],label=\"train\")\n",
    "plt.plot(scores[1],label=\"dev\")\n",
    "plt.xlabel(\"Regularization Parameter\")\n",
    "plt.ylabel(\"Accuracy\")\n",
    "plt.title(\"Average\")\n",
    "plt.legend()\n",
    "plt.figure()\n",
    "plt.plot(scores_idf[0],label=\"train\")\n",
    "plt.plot(scores_idf[1],label=\"dev\")\n",
    "plt.xlabel(\"Regularization Parameter\")\n",
    "plt.ylabel(\"Accuracy\")\n",
    "plt.title(\"Weighted Average\")\n",
    "plt.legend()\n",
    "plt.show()"
   ]
  },
  {
   "cell_type": "code",
   "execution_count": 40,
   "metadata": {
    "colab": {},
    "colab_type": "code",
    "id": "swTuHyj1q7Wg"
   },
   "outputs": [],
   "source": [
    "# 4 - Produce 2210 predictions for the test set (in the same order). One line = one prediction (=0,1,2,3,4).\n",
    "#     Attach the output file \"logreg_bov_y_test_sst.txt\" to your deliverable.\n",
    "#     You will be evaluated on the results of the test set.\n",
    "lr = LogisticRegression(C=regs[np.argmax(scores)],solver=\"lbfgs\",multi_class=\"auto\",max_iter=1000)\n",
    "lr.fit(x_train_idf,y_train)\n",
    "\n",
    "with open(\"logreg_bov_y_test_sst.txt\",\"w+\") as f:\n",
    "    y_pred = lr.predict(x_test_idf)\n",
    "    for y in y_pred:\n",
    "        f.write(str(y)+\"\\n\")"
   ]
  },
  {
   "cell_type": "code",
   "execution_count": 11,
   "metadata": {
    "colab": {},
    "colab_type": "code",
    "id": "0wb1epeEq7Wh"
   },
   "outputs": [
    {
     "name": "stdout",
     "output_type": "stream",
     "text": [
      "C= 10.0 => 0.38419618528610355\n",
      "C= 100.0 => 0.4114441416893733\n",
      "C= 1000.0 => 0.41689373297002724\n",
      "C= 10000.0 => 0.3823796548592189\n"
     ]
    }
   ],
   "source": [
    "# BONUS!\n",
    "# 5 - Try to improve performance with another classifier\n",
    "#     Attach the output file \"XXX_bov_y_test_sst.txt\" to your deliverable (where XXX = the name of the classifier)\n",
    "from sklearn.svm import SVC\n",
    "\n",
    "regs = np.logspace(1,4,4)\n",
    "scores = np.zeros(regs.shape)\n",
    "for i, reg in enumerate(regs):\n",
    "    svc = SVC(C=reg,kernel=\"rbf\",gamma=\"auto\")\n",
    "    svc.fit(x_train_idf,y_train)\n",
    "    scores[i] = svc.score(x_dev_idf,y_dev)\n",
    "    print(\"C=\",reg,\"=>\",scores[i])\n",
    "    \n",
    "SVC(C=regs[np.argmax(scores)],kernel=\"rbf\",gamma=\"auto\")\n",
    "svc.fit(x_train_idf,y_train)\n",
    "\n",
    "with open(\"svm_bov_y_test_sst.txt\",\"w+\") as f:\n",
    "    y_pred = svc.predict(x_test_idf)\n",
    "    for y in y_pred:\n",
    "        f.write(str(y)+\"\\n\")"
   ]
  },
  {
   "cell_type": "markdown",
   "metadata": {
    "colab_type": "text",
    "id": "I7fyJ1uyq7Wh"
   },
   "source": [
    "# 4) Sentence classification with LSTMs in Keras"
   ]
  },
  {
   "cell_type": "markdown",
   "metadata": {
    "colab_type": "text",
    "id": "RU5xsMXIq7Wi"
   },
   "source": [
    "## 4.1 - Preprocessing"
   ]
  },
  {
   "cell_type": "code",
   "execution_count": 3,
   "metadata": {
    "colab": {},
    "colab_type": "code",
    "id": "L2bnJGI5q7Wi",
    "jupyter": {
     "outputs_hidden": false
    }
   },
   "outputs": [],
   "source": [
    "import tensorflow as tf"
   ]
  },
  {
   "cell_type": "code",
   "execution_count": 4,
   "metadata": {
    "colab": {},
    "colab_type": "code",
    "id": "MSUbde1zq7Wi"
   },
   "outputs": [],
   "source": [
    "# 1 - Using the same dataset, transform text to integers using tf.keras.preprocessing.text.one_hot function\n",
    "#     https://keras.io/preprocessing/text/\n",
    "\n",
    "train_filepath = PATH_TO_DATA / 'SST/stsa.fine.train'\n",
    "dev_filepath = PATH_TO_DATA / 'SST/stsa.fine.dev'\n",
    "test_filepath = PATH_TO_DATA / 'SST/stsa.fine.test.X'\n",
    "\n",
    "def filtering(lines,test=False):\n",
    "    X = []\n",
    "    y = []\n",
    "    for line in lines:\n",
    "        if test:\n",
    "            X.append(tf.keras.preprocessing.text.one_hot(line,n=10000))\n",
    "        else:\n",
    "            y.append(int(line[0]))\n",
    "            X.append(tf.keras.preprocessing.text.one_hot(line[2:],n=10000))\n",
    "    if not test:\n",
    "        y = tf.keras.utils.to_categorical(y)\n",
    "    return X,y\n",
    "\n",
    "with open(train_filepath,\"r\") as f:\n",
    "    train_lines = f.readlines()\n",
    "with open(dev_filepath,\"r\") as f:\n",
    "    dev_lines = f.readlines()\n",
    "with open(test_filepath,\"r\") as f:\n",
    "    test_lines = f.readlines()\n",
    "    \n",
    "x_train, y_train = filtering(train_lines)\n",
    "x_dev, y_dev = filtering(dev_lines)\n",
    "x_test, _ = filtering(test_lines, test=True)\n"
   ]
  },
  {
   "cell_type": "markdown",
   "metadata": {
    "colab_type": "text",
    "id": "dfa3Qe4vq7Wj"
   },
   "source": [
    "**Padding input data**\n",
    "\n",
    "Models in Keras (and elsewhere) take batches of sentences of the same length as input. It is because Deep Learning framework have been designed to handle well Tensors, which are particularly suited for fast computation on the GPU.\n",
    "\n",
    "Since sentences have different sizes, we \"pad\" them. That is, we add dummy \"padding\" tokens so that they all have the same length.\n",
    "\n",
    "The input to a Keras model thus has this size : (batchsize, maxseqlen) where maxseqlen is the maximum length of a sentence in the batch."
   ]
  },
  {
   "cell_type": "code",
   "execution_count": 5,
   "metadata": {
    "colab": {},
    "colab_type": "code",
    "id": "Uatt7jfvq7Wj"
   },
   "outputs": [],
   "source": [
    "# 2 - Pad your sequences using tf.keras.preprocessing.sequence.pad_sequences\n",
    "#     https://keras.io/preprocessing/sequence/\n",
    "\n",
    "x_train = tf.keras.preprocessing.sequence.pad_sequences(x_train, maxlen=50)\n",
    "x_dev = tf.keras.preprocessing.sequence.pad_sequences(x_dev, maxlen=50)\n",
    "x_test = tf.keras.preprocessing.sequence.pad_sequences(x_test, maxlen=50)"
   ]
  },
  {
   "cell_type": "markdown",
   "metadata": {
    "colab_type": "text",
    "id": "76SB3ctDq7Wk"
   },
   "source": [
    "## 4.2 - Design and train your model"
   ]
  },
  {
   "cell_type": "code",
   "execution_count": 6,
   "metadata": {
    "colab": {},
    "colab_type": "code",
    "id": "AS2w-zP0q7Wk"
   },
   "outputs": [
    {
     "name": "stdout",
     "output_type": "stream",
     "text": [
      "WARNING:tensorflow:From /home/leo/.local/lib/python3.7/site-packages/tensorflow_core/python/keras/initializers.py:119: calling RandomUniform.__init__ (from tensorflow.python.ops.init_ops) with dtype is deprecated and will be removed in a future version.\n",
      "Instructions for updating:\n",
      "Call initializer instance with the dtype argument instead of passing it to the constructor\n",
      "WARNING:tensorflow:From /home/leo/.local/lib/python3.7/site-packages/tensorflow_core/python/ops/resource_variable_ops.py:1630: calling BaseResourceVariable.__init__ (from tensorflow.python.ops.resource_variable_ops) with constraint is deprecated and will be removed in a future version.\n",
      "Instructions for updating:\n",
      "If using Keras pass *_constraint arguments to layers.\n"
     ]
    }
   ],
   "source": [
    "# 3 - Design your encoder + classifier using tensorflow.keras.layers\n",
    "#     In Keras, Torch and other deep learning framework, we create a \"container\" which is the Sequential() module.\n",
    "#     Then we add components to this container : the lookup-table, the LSTM, the classifier etc.\n",
    "#     All of these components are contained in the Sequential() and are trained together.\n",
    "#     Note that the embedding layer is initialized randomly and does not take advantage of pre-trained word embeddings.\n",
    "\n",
    "\n",
    "# ADAPT CODE BELOW\n",
    "\n",
    "from tensorflow.keras.models import Sequential\n",
    "from tensorflow.keras.layers import Embedding, LSTM, Dense, Activation\n",
    "\n",
    "embed_dim  = 128  # word embedding dimension\n",
    "nhid       = 64  # number of hidden units in the LSTM\n",
    "vocab_size = 10000  # size of the vocabulary\n",
    "n_classes  = 5\n",
    "\n",
    "model = Sequential()\n",
    "model.add(Embedding(vocab_size, embed_dim))\n",
    "model.add(LSTM(nhid, dropout=0.3, recurrent_dropout=0.3))\n",
    "model.add(Dense(n_classes, activation='sigmoid',\n",
    "                kernel_regularizer=tf.keras.regularizers.l2(0.01),\n",
    "                activity_regularizer=tf.keras.regularizers.l1(0.01)))"
   ]
  },
  {
   "cell_type": "code",
   "execution_count": 7,
   "metadata": {
    "colab": {},
    "colab_type": "code",
    "id": "2JFWy89jq7Wk",
    "jupyter": {
     "outputs_hidden": false
    }
   },
   "outputs": [
    {
     "name": "stdout",
     "output_type": "stream",
     "text": [
      "Model: \"sequential\"\n",
      "_________________________________________________________________\n",
      "Layer (type)                 Output Shape              Param #   \n",
      "=================================================================\n",
      "embedding (Embedding)        (None, None, 128)         1280000   \n",
      "_________________________________________________________________\n",
      "lstm (LSTM)                  (None, 64)                49408     \n",
      "_________________________________________________________________\n",
      "dense (Dense)                (None, 5)                 325       \n",
      "=================================================================\n",
      "Total params: 1,329,733\n",
      "Trainable params: 1,329,733\n",
      "Non-trainable params: 0\n",
      "_________________________________________________________________\n",
      "None\n"
     ]
    }
   ],
   "source": [
    "# 4 - Define your loss/optimizer/metrics\n",
    "\n",
    "# MODIFY CODE BELOW\n",
    "\n",
    "loss_classif     =  'categorical_crossentropy' # find the right loss for multi-class classification\n",
    "optimizer        =  'adam' # find the right optimizer\n",
    "metrics_classif  =  ['accuracy']\n",
    "\n",
    "# Observe how easy (but blackboxed) this is in Keras\n",
    "model.compile(loss=loss_classif,\n",
    "              optimizer=optimizer,\n",
    "              metrics=metrics_classif)\n",
    "print(model.summary())"
   ]
  },
  {
   "cell_type": "code",
   "execution_count": 8,
   "metadata": {
    "colab": {},
    "colab_type": "code",
    "id": "hYlC2lMBq7Wl"
   },
   "outputs": [
    {
     "name": "stdout",
     "output_type": "stream",
     "text": [
      "WARNING:tensorflow:The `nb_epoch` argument in `fit` has been renamed `epochs`.\n",
      "WARNING:tensorflow:From /home/leo/.local/lib/python3.7/site-packages/tensorflow_core/python/ops/math_grad.py:1424: where (from tensorflow.python.ops.array_ops) is deprecated and will be removed in a future version.\n",
      "Instructions for updating:\n",
      "Use tf.where in 2.0, which has the same broadcast rule as np.where\n",
      "Train on 8544 samples, validate on 1101 samples\n",
      "Epoch 1/6\n",
      "8544/8544 [==============================] - 11s 1ms/sample - loss: 1.6661 - acc: 0.2691 - val_loss: 1.6418 - val_acc: 0.2534\n",
      "Epoch 2/6\n",
      "8544/8544 [==============================] - 10s 1ms/sample - loss: 1.6008 - acc: 0.3159 - val_loss: 1.5547 - val_acc: 0.3515\n",
      "Epoch 3/6\n",
      "8544/8544 [==============================] - 10s 1ms/sample - loss: 1.4281 - acc: 0.3963 - val_loss: 1.4641 - val_acc: 0.3869\n",
      "Epoch 4/6\n",
      "8544/8544 [==============================] - 9s 1ms/sample - loss: 1.2605 - acc: 0.4539 - val_loss: 1.5047 - val_acc: 0.3778\n",
      "Epoch 5/6\n",
      "8544/8544 [==============================] - 10s 1ms/sample - loss: 1.1381 - acc: 0.5023 - val_loss: 1.5538 - val_acc: 0.3842\n",
      "Epoch 6/6\n",
      "8544/8544 [==============================] - 10s 1ms/sample - loss: 1.0271 - acc: 0.5787 - val_loss: 1.6219 - val_acc: 0.3724\n"
     ]
    }
   ],
   "source": [
    "# 5 - Train your model and find the best hyperparameters for your dev set\n",
    "#     you will be evaluated on the quality of your predictions on the test set\n",
    "#     Keras expects y_train and y_dev to be one-hot encodings of the labels, i.e. with shape=(n_samples, 5)\n",
    "\n",
    "\n",
    "# ADAPT CODE BELOW\n",
    "\n",
    "import os\n",
    "os.environ[\"CUDA_DEVICE_ORDER\"] = \"PCI_BUS_ID\"  \n",
    "os.environ[\"CUDA_VISIBLE_DEVICES\"] = \"\"\n",
    "# due to GPU issue on my computer\n",
    "\n",
    "bs = 128\n",
    "n_epochs = 6\n",
    "\n",
    "history = model.fit(x_train, y_train, batch_size=bs, nb_epoch=n_epochs, validation_data=(x_dev, y_dev))"
   ]
  },
  {
   "cell_type": "code",
   "execution_count": 9,
   "metadata": {
    "colab": {},
    "colab_type": "code",
    "id": "VXgHc70xq7Wl"
   },
   "outputs": [
    {
     "data": {
      "image/png": "[encoded data removed]",
      "text/plain": [
       "<Figure size 432x288 with 1 Axes>"
      ]
     },
     "metadata": {
      "needs_background": "light"
     },
     "output_type": "display_data"
    },
    {
     "data": {
      "image/png": "[encoded data removed]",
      "text/plain": [
       "<Figure size 432x288 with 1 Axes>"
      ]
     },
     "metadata": {
      "needs_background": "light"
     },
     "output_type": "display_data"
    }
   ],
   "source": [
    "# 6 - Generate your predictions on the test set using model.predict(x_test)\n",
    "#     https://keras.io/models/model/\n",
    "#     Log your predictions in a file (one line = one integer: 0,1,2,3,4)\n",
    "#     Attach the output file \"logreg_lstm_y_test_sst.txt\" to your deliverable.\n",
    "plt.plot(history.history['acc'])\n",
    "plt.plot(history.history['val_acc'])\n",
    "plt.title('Model accuracy')\n",
    "plt.ylabel('Accuracy')\n",
    "plt.xlabel('Epoch')\n",
    "plt.legend(['Train', 'Test'], loc='upper left')\n",
    "plt.show()\n",
    "plt.plot(history.history['loss'])\n",
    "plt.plot(history.history['val_loss'])\n",
    "plt.title('Model loss')\n",
    "plt.ylabel('Loss')\n",
    "plt.xlabel('Epoch')\n",
    "plt.legend(['Train', 'Test'], loc='upper left')\n",
    "plt.show()\n",
    "\n",
    "with open(\"logreg_lstm_y_test_sst.txt\",\"w+\") as f:\n",
    "    y_pred = np.argmax(model.predict(x_test),1)\n",
    "    for y in y_pred:\n",
    "        f.write(str(y)+\"\\n\")"
   ]
  },
  {
   "cell_type": "markdown",
   "metadata": {
    "colab_type": "text",
    "id": "pFtrs5Tfq7Wm"
   },
   "source": [
    "## 4.3 - innovate !"
   ]
  },
  {
   "cell_type": "code",
   "execution_count": 10,
   "metadata": {
    "colab": {},
    "colab_type": "code",
    "id": "hHmAPONdq7Wm"
   },
   "outputs": [
    {
     "name": "stdout",
     "output_type": "stream",
     "text": [
      "WARNING:tensorflow:Large dropout rate: 0.8 (>0.5). In TensorFlow 2.x, dropout() uses dropout rate instead of keep_prob. Please ensure that this is intended.\n",
      "WARNING:tensorflow:The `nb_epoch` argument in `fit` has been renamed `epochs`.\n",
      "Train on 8544 samples, validate on 1101 samples\n",
      "Epoch 1/10\n",
      "8544/8544 [==============================] - 5s 547us/sample - loss: 1.6706 - acc: 0.2573 - val_loss: 1.6460 - val_acc: 0.2670\n",
      "Epoch 2/10\n",
      "8544/8544 [==============================] - 4s 512us/sample - loss: 1.6415 - acc: 0.2768 - val_loss: 1.6335 - val_acc: 0.2607\n",
      "Epoch 3/10\n",
      "8544/8544 [==============================] - 4s 480us/sample - loss: 1.6246 - acc: 0.2701 - val_loss: 1.6194 - val_acc: 0.2652\n",
      "Epoch 4/10\n",
      "8544/8544 [==============================] - 4s 490us/sample - loss: 1.6009 - acc: 0.2741 - val_loss: 1.6080 - val_acc: 0.2643\n",
      "Epoch 5/10\n",
      "8544/8544 [==============================] - 4s 501us/sample - loss: 1.5496 - acc: 0.2766 - val_loss: 1.6053 - val_acc: 0.2443\n",
      "Epoch 6/10\n",
      "8544/8544 [==============================] - 4s 497us/sample - loss: 1.4731 - acc: 0.2952 - val_loss: 1.6308 - val_acc: 0.2352\n",
      "Epoch 7/10\n",
      "8544/8544 [==============================] - 4s 503us/sample - loss: 1.3858 - acc: 0.3147 - val_loss: 1.7525 - val_acc: 0.2280\n",
      "Epoch 8/10\n",
      "8544/8544 [==============================] - 4s 494us/sample - loss: 1.2979 - acc: 0.3378 - val_loss: 1.8430 - val_acc: 0.2334\n",
      "Epoch 9/10\n",
      "8544/8544 [==============================] - 4s 489us/sample - loss: 1.2538 - acc: 0.3468 - val_loss: 1.9192 - val_acc: 0.2280\n",
      "Epoch 10/10\n",
      "8544/8544 [==============================] - 4s 518us/sample - loss: 1.2164 - acc: 0.3674 - val_loss: 2.1609 - val_acc: 0.2461\n"
     ]
    },
    {
     "data": {
      "image/png": "[encoded data removed]",
      "text/plain": [
       "<Figure size 432x288 with 1 Axes>"
      ]
     },
     "metadata": {
      "needs_background": "light"
     },
     "output_type": "display_data"
    },
    {
     "data": {
      "image/png": "[encoded data removed]",
      "text/plain": [
       "<Figure size 432x288 with 1 Axes>"
      ]
     },
     "metadata": {
      "needs_background": "light"
     },
     "output_type": "display_data"
    }
   ],
   "source": [
    "# 7 - Open question: find a model that is better on your dev set\n",
    "#     (e.g: use a 1D ConvNet, use a better classifier, pretrain your lookup tables ..)\n",
    "#     you will get point if the results on the test set are better: be careful of not overfitting your dev set too much..\n",
    "#     Attach the output file \"XXX_XXX_y_test_sst.txt\" to your deliverable.\n",
    "\n",
    "from tensorflow.keras.layers import BatchNormalization, Flatten, Conv1D, MaxPooling1D, Dropout\n",
    "\n",
    "model2 = Sequential()\n",
    "model2.add(Embedding(vocab_size, embed_dim, input_length=50))\n",
    "model2.add(Conv1D(32, 5, activation='relu'))\n",
    "model2.add(MaxPooling1D(2))\n",
    "model2.add(Conv1D(16, 3, activation='relu'))\n",
    "model2.add(MaxPooling1D(2))\n",
    "model2.add(Flatten())\n",
    "model2.add(Dense(n_classes*3, activation='relu'))\n",
    "model2.add(Dropout(0.8))\n",
    "model2.add(Dense(n_classes, activation='sigmoid',\n",
    "                kernel_regularizer=tf.keras.regularizers.l2(0.01),\n",
    "                activity_regularizer=tf.keras.regularizers.l1(0.01)))\n",
    "\n",
    "bs = 128\n",
    "n_epochs = 10\n",
    "model2.compile(loss=loss_classif,\n",
    "              optimizer=optimizer,\n",
    "              metrics=metrics_classif)\n",
    "history2 = model2.fit(x_train, y_train, batch_size=bs, nb_epoch=n_epochs, validation_data=(x_dev, y_dev))\n",
    "\n",
    "with open(\"regularized_cnn_y_test_sst.txt\",\"w+\") as f:\n",
    "    y_pred = np.argmax(model2.predict(x_test),1)\n",
    "    for y in y_pred:\n",
    "        f.write(str(y)+\"\\n\")\n",
    "        \n",
    "plt.plot(history2.history['acc'])\n",
    "plt.plot(history2.history['val_acc'])\n",
    "plt.title('Model accuracy')\n",
    "plt.ylabel('Accuracy')\n",
    "plt.xlabel('Epoch')\n",
    "plt.legend(['Train', 'Test'], loc='upper left')\n",
    "plt.show()\n",
    "plt.plot(history2.history['loss'])\n",
    "plt.plot(history2.history['val_loss'])\n",
    "plt.title('Model loss')\n",
    "plt.ylabel('Loss')\n",
    "plt.xlabel('Epoch')\n",
    "plt.legend(['Train', 'Test'], loc='upper left')\n",
    "plt.show()"
   ]
  }
 ],
 "metadata": {
  "colab": {
   "collapsed_sections": [],
   "name": "nlp_project.ipynb",
   "provenance": []
  },
  "kernelspec": {
   "display_name": "Python 3",
   "language": "python",
   "name": "python3"
  },
  "language_info": {
   "codemirror_mode": {
    "name": "ipython",
    "version": 3
   },
   "file_extension": ".py",
   "mimetype": "text/x-python",
   "name": "python",
   "nbconvert_exporter": "python",
   "pygments_lexer": "ipython3",
   "version": "3.7.3"
  }
 },
 "nbformat": 4,
 "nbformat_minor": 1
}
